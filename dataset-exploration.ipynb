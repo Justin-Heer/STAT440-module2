{
 "cells": [
  {
   "cell_type": "code",
   "execution_count": 22,
   "metadata": {},
   "outputs": [],
   "source": [
    "import pandas as pd\n",
    "import numpy as np\n",
    "from matplotlib import pyplot as plt"
   ]
  },
  {
   "cell_type": "code",
   "execution_count": 23,
   "metadata": {},
   "outputs": [],
   "source": [
    "Xtrain = pd.read_csv('original-data/Xtrain.txt', sep=' ', index_col= 'Id', low_memory=False)\n",
    "Xtest = pd.read_csv('original-data/Xtest.txt', sep=' ', index_col= 'Id', low_memory=False)\n",
    "\n",
    "Ytrain = pd.read_csv('original-data/Ytrain.txt',delimiter=' ', index_col='Id')\n",
    "Ytest = pd.read_csv('original-data/Ytest.txt')"
   ]
  },
  {
   "cell_type": "code",
   "execution_count": 24,
   "metadata": {},
   "outputs": [],
   "source": [
    "from sklearn.pipeline import Pipeline\n",
    "from sklearn.impute import SimpleImputer\n",
    "from sklearn.base import BaseEstimator, TransformerMixin"
   ]
  },
  {
   "cell_type": "code",
   "execution_count": 25,
   "metadata": {},
   "outputs": [],
   "source": [
    "class CustomImputer(BaseEstimator, TransformerMixin):\n",
    "    '''\n",
    "    Takes irregular missing values and replaces with np.nan\n",
    "    '''\n",
    "    def __init__(self, missing_values = None):\n",
    "        self.missing_values = missing_values \n",
    "    def fit(self, X, y = None):\n",
    "        return self\n",
    "    \n",
    "    def transform(self, X, y = None):\n",
    "        print('\\n transform() called in ',self)\n",
    "        for missing_value in self.missing_values:\n",
    "            X.replace(missing_value, np.nan, inplace=True)\n",
    "        \n",
    "        \n",
    "        return X\n",
    "    \n",
    "    "
   ]
  },
  {
   "cell_type": "code",
   "execution_count": 26,
   "metadata": {},
   "outputs": [],
   "source": [
    "from sklearn.model_selection import train_test_split\n",
    "Xtrain,Xval,Ytrain,Yval = train_test_split(Xtrain,Ytrain,random_state = 1, test_size = 0.2)"
   ]
  },
  {
   "cell_type": "code",
   "execution_count": 27,
   "metadata": {},
   "outputs": [
    {
     "name": "stdout",
     "output_type": "stream",
     "text": [
      "\n",
      " transform() called in  CustomImputer(missing_values=['?'])\n",
      "\n",
      " transform() called in  CustomImputer(missing_values=['?'])\n",
      "\n",
      " transform() called in  CustomImputer(missing_values=['?'])\n"
     ]
    }
   ],
   "source": [
    "X_pipeline_steps = [('custom imputer',CustomImputer(missing_values = ['?'])),\n",
    "                      ('simple imputer',SimpleImputer(copy=False)),]\n",
    "X_pipeline = Pipeline(steps = X_pipeline_steps)\n",
    "Xtrain[:] = X_pipeline.fit_transform(Xtrain)\n",
    "Xval[:] = X_pipeline.transform(Xval)\n",
    "\n",
    "Y_pipeline_steps = [('simple imputer', SimpleImputer(copy=False))]\n",
    "Y_pipeline = Pipeline(steps= Y_pipeline_steps)\n",
    "Ytrain[:] = Y_pipeline.fit_transform(Ytrain)\n",
    "Yval[:] = Y_pipeline.transform(Yval)\n",
    "\n",
    "Xtest[:] = X_pipeline.transform(Xtest)"
   ]
  },
  {
   "cell_type": "code",
   "execution_count": 69,
   "metadata": {},
   "outputs": [
    {
     "data": {
      "text/plain": [
       "Index(['C03', 'D07', 'D11', 'D01', 'D08', 'D10', 'D03', 'D02', 'D09', 'D04',\n",
       "       'C02', 'C01', 'D05', 'D06'],\n",
       "      dtype='object')"
      ]
     },
     "execution_count": 69,
     "metadata": {},
     "output_type": "execute_result"
    }
   ],
   "source": [
    "corrs = Xtrain.corrwith(Ytrain.loc[:,\"Z01\"])\n",
    "corrs.sort_values(ascending=False)[0:14].index"
   ]
  },
  {
   "cell_type": "markdown",
   "metadata": {},
   "source": [
    "### Tuning for Z01"
   ]
  },
  {
   "cell_type": "markdown",
   "metadata": {},
   "source": [
    "## Generates Ytest submission on full data prediction\n"
   ]
  },
  {
   "cell_type": "code",
   "execution_count": 249,
   "metadata": {},
   "outputs": [],
   "source": [
    "for index in Ytest.index: \n",
    "    response = Ytest.loc[index,'response']\n",
    "    \n",
    "    Ytest.loc[index,'Value'] = YTestArray.loc[index,response]"
   ]
  },
  {
   "cell_type": "code",
   "execution_count": 250,
   "metadata": {},
   "outputs": [],
   "source": [
    "Ytest['Value'].to_csv('kaggle_submission_test.txt')"
   ]
  }
 ],
 "metadata": {
  "kernelspec": {
   "display_name": "Python 3",
   "language": "python",
   "name": "python3"
  },
  "language_info": {
   "codemirror_mode": {
    "name": "ipython",
    "version": 3
   },
   "file_extension": ".py",
   "mimetype": "text/x-python",
   "name": "python",
   "nbconvert_exporter": "python",
   "pygments_lexer": "ipython3",
   "version": "3.7.9"
  }
 },
 "nbformat": 4,
 "nbformat_minor": 4
}
